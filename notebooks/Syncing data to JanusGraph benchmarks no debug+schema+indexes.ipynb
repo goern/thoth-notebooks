{
 "cells": [
  {
   "cell_type": "markdown",
   "metadata": {},
   "source": [
    "# Syncing data to JanusGraph benchmarks"
   ]
  },
  {
   "cell_type": "code",
   "execution_count": 12,
   "metadata": {},
   "outputs": [],
   "source": [
    "from thoth.storages.graph import GraphDatabase\n",
    "from thoth.storages import SolverResultsStore\n",
    "from thoth.storages import AnalysisResultsStore\n",
    "\n",
    "from thoth.lab import obtain_location\n",
    "from thoth.lab import GraphQueryResult as gqr\n",
    "\n",
    "#graph_db = GraphDatabase.create(obtain_location('paas-thoth-test-core-janusgraph',\n",
    "#                                                verify=False, \n",
    "#                                                only_netloc=True),\n",
    "#                                port=80)\n",
    "graph_db = GraphDatabase.create('10.8.253.255', port=8182)\n",
    "\n",
    "solver_results = SolverResultsStore('thoth-test',\n",
    "                                    host=obtain_location('thoth-upshift-ceph',\n",
    "                                                         verify=False))\n",
    "analysis_results = AnalysisResultsStore('thoth-test', \n",
    "                                        host=obtain_location('thoth-upshift-ceph',\n",
    "                                                             verify=False))\n",
    "\n",
    "graph_db.connect()\n",
    "solver_results.connect()\n",
    "analysis_results.connect()"
   ]
  },
  {
   "cell_type": "markdown",
   "metadata": {},
   "source": [
    "## Place for experiments:"
   ]
  },
  {
   "cell_type": "markdown",
   "metadata": {},
   "source": [
    "These are benchmarks when running JanusGraph on a local machine. **Note** the debug mode of JanusGraph was turned **off**."
   ]
  },
  {
   "cell_type": "code",
   "execution_count": 22,
   "metadata": {},
   "outputs": [
    {
     "name": "stderr",
     "output_type": "stream",
     "text": [
      "2018-10-02 12:08:30,784 [31439] INFO     root: Logging to a Sentry instance is turned off\n",
      "2018-10-02 12:08:30,785 [31439] INFO     root: Logging to rsyslog endpoint is turned off\n"
     ]
    }
   ],
   "source": [
    "from thoth.common import init_logging\n",
    "\n",
    "# Let's keep info about enabling/disabling caches.\n",
    "init_logging({'thoth.storages.graph.utils': 'INFO'})"
   ]
  },
  {
   "cell_type": "markdown",
   "metadata": {},
   "source": [
    "## Deleting content of Graph Database"
   ]
  },
  {
   "cell_type": "code",
   "execution_count": 16,
   "metadata": {},
   "outputs": [
    {
     "name": "stdout",
     "output_type": "stream",
     "text": [
      "CPU times: user 3.83 ms, sys: 1.84 ms, total: 5.67 ms\n",
      "Wall time: 392 ms\n"
     ]
    }
   ],
   "source": [
    "%%time\n",
    "\n",
    "from thoth.lab import GraphQueryResult as gqr\n",
    "\n",
    "# Erase content of the graph database:\n",
    "gqr(graph_db.g.V().drop().next()).result\n",
    "assert gqr(graph_db.g.V().count().next()).result == 0"
   ]
  },
  {
   "cell_type": "markdown",
   "metadata": {},
   "source": [
    "## Syncing image analysis results - with adapter cache"
   ]
  },
  {
   "cell_type": "markdown",
   "metadata": {},
   "source": [
    "Now we are retrieving all the analyser documents stored on Ceph. It should take about 40 seconds."
   ]
  },
  {
   "cell_type": "code",
   "execution_count": 9,
   "metadata": {},
   "outputs": [
    {
     "name": "stdout",
     "output_type": "stream",
     "text": [
      "env: THOTH_STORAGES_DISABLE_CACHE=0\n",
      "retrieved 29 Analysis documents from Ceph\n",
      "CPU times: user 549 ms, sys: 149 ms, total: 698 ms\n",
      "Wall time: 30.9 s\n"
     ]
    }
   ],
   "source": [
    "%%time\n",
    "%env THOTH_STORAGES_DISABLE_CACHE=0\n",
    "\n",
    "all_analysis_results = analysis_results.get_document_listing()\n",
    "all_analysis_documents = []\n",
    "\n",
    "for a in all_analysis_results:    \n",
    "    all_analysis_documents.append({\n",
    "        \"name\": f\"{a}\",\n",
    "        \"document\": analysis_results.retrieve_document(a)\n",
    "    })\n",
    "\n",
    "print(f\"retrieved {len(all_analysis_documents)} Analysis documents from Ceph\")"
   ]
  },
  {
   "cell_type": "code",
   "execution_count": 17,
   "metadata": {},
   "outputs": [
    {
     "name": "stdout",
     "output_type": "stream",
     "text": [
      "\n",
      "Done with 1/29 Analyser documents\n",
      "Number of vertexes, edges in graph: 903, 3719\n",
      "CPU time elapsed to sync document to graph: 1079.0483193397522sec\n",
      "\n",
      "Done with 2/29 Analyser documents\n",
      "Number of vertexes, edges in graph: 2501, 12150\n",
      "CPU time elapsed to sync document to graph: 2348.4578483104706sec\n"
     ]
    },
    {
     "name": "stderr",
     "output_type": "stream",
     "text": [
      "2018-10-02 00:14:58,197 [31439] ERROR    thoth.storages.graph.janusgraph: Failed to sync Python package, error is not fatal: {'digests': {'manifest': '724f958273918715b4d72f5bd643ab00b05dd644'}, 'ecosystem': 'Python', 'path': '/opt/app-root/lib/python2.7/site-packages/pbr/tests/testpackage/setup.py', 'result': {'ext_modules': [], 'pbr': True, 'setup_requires': ['pbr']}}\n",
      "Traceback (most recent call last):\n",
      "  File \"/home/goern/.local/share/virtualenvs/notebooks-OF6w48C5/lib/python3.6/site-packages/thoth/storages/graph/janusgraph.py\", line 582, in sync_analysis_result\n",
      "    package_name=python_package_info['result']['name'].lower(),\n",
      "KeyError: 'name'\n"
     ]
    },
    {
     "name": "stdout",
     "output_type": "stream",
     "text": [
      "\n",
      "Done with 3/29 Analyser documents\n",
      "Number of vertexes, edges in graph: 3184, 19670\n",
      "CPU time elapsed to sync document to graph: 2190.462992668152sec\n",
      "\n",
      "Done with 4/29 Analyser documents\n",
      "Number of vertexes, edges in graph: 3184, 27721\n",
      "CPU time elapsed to sync document to graph: 2125.468581199646sec\n"
     ]
    },
    {
     "name": "stderr",
     "output_type": "stream",
     "text": [
      "2018-10-02 01:12:03,203 [31439] INFO     thoth.storages.graph.janusgraph: Skipping error entry - {'digests': {'manifest': 'd160dbe73ba777affa7a4e86a37199a91e31427c'}, 'ecosystem': 'Python', 'path': '/usr/lib64/python2.7/site-packages/twisted/internet/iocpreactor/setup.py', 'result': {'error': 'b\\'Traceback (most recent call last):\\\\n  File \"<stdin>\", line 12, in <module>\\\\nImportError: No module named Cython.Distutils\\\\n\\''}}\n"
     ]
    },
    {
     "name": "stdout",
     "output_type": "stream",
     "text": [
      "\n",
      "Done with 5/29 Analyser documents\n",
      "Number of vertexes, edges in graph: 3445, 32043\n",
      "CPU time elapsed to sync document to graph: 1262.4487073421478sec\n"
     ]
    },
    {
     "name": "stderr",
     "output_type": "stream",
     "text": [
      "2018-10-02 01:39:30,223 [31439] INFO     thoth.storages.graph.janusgraph: Skipping error entry - {'digests': {'manifest': 'd160dbe73ba777affa7a4e86a37199a91e31427c'}, 'ecosystem': 'Python', 'path': '/usr/lib64/python2.7/site-packages/twisted/internet/iocpreactor/setup.py', 'result': {'error': 'b\\'Traceback (most recent call last):\\\\n  File \"<stdin>\", line 12, in <module>\\\\nImportError: No module named Cython.Distutils\\\\n\\''}}\n"
     ]
    },
    {
     "name": "stdout",
     "output_type": "stream",
     "text": [
      "\n",
      "Done with 6/29 Analyser documents\n",
      "Number of vertexes, edges in graph: 3517, 37505\n",
      "CPU time elapsed to sync document to graph: 1645.9162828922272sec\n",
      "\n",
      "Done with 7/29 Analyser documents\n",
      "Number of vertexes, edges in graph: 3833, 41282\n",
      "CPU time elapsed to sync document to graph: 1087.1923644542694sec\n"
     ]
    },
    {
     "name": "stderr",
     "output_type": "stream",
     "text": [
      "2018-10-02 02:07:23,621 [31439] ERROR    asyncio: Task exception was never retrieved\n",
      "future: <Task finished coro=<Connection._receive() done, defined at /home/goern/.local/share/virtualenvs/notebooks-OF6w48C5/lib/python3.6/site-packages/aiogremlin/driver/connection.py:159> exception=EofStream()>\n",
      "Traceback (most recent call last):\n",
      "  File \"/home/goern/.local/share/virtualenvs/notebooks-OF6w48C5/lib/python3.6/site-packages/aiogremlin/driver/connection.py\", line 162, in _receive\n",
      "    await self._protocol.data_received(data, self._result_sets)\n",
      "  File \"/home/goern/.local/share/virtualenvs/notebooks-OF6w48C5/lib/python3.6/site-packages/aiogremlin/driver/protocol.py\", line 48, in data_received\n",
      "    raise data.data\n",
      "  File \"/home/goern/.local/share/virtualenvs/notebooks-OF6w48C5/lib/python3.6/site-packages/aiohttp/client_ws.py\", line 183, in receive\n",
      "    msg = yield from self._reader.read()\n",
      "  File \"/home/goern/.local/share/virtualenvs/notebooks-OF6w48C5/lib/python3.6/site-packages/aiohttp/streams.py\", line 627, in read\n",
      "    return (yield from super().read())\n",
      "  File \"/home/goern/.local/share/virtualenvs/notebooks-OF6w48C5/lib/python3.6/site-packages/aiohttp/streams.py\", line 522, in read\n",
      "    raise EofStream\n",
      "aiohttp.streams.EofStream\n",
      "2018-10-02 02:07:23,623 [31439] ERROR    asyncio: Unclosed client session\n",
      "client_session: <aiohttp.client.ClientSession object at 0x7fb93f4faeb8>\n",
      "2018-10-02 02:07:23,623 [31439] ERROR    asyncio: Unclosed client session\n",
      "client_session: <aiohttp.client.ClientSession object at 0x7fb93e68eb38>\n",
      "2018-10-02 02:07:23,624 [31439] ERROR    asyncio: Task exception was never retrieved\n",
      "future: <Task finished coro=<Connection._receive() done, defined at /home/goern/.local/share/virtualenvs/notebooks-OF6w48C5/lib/python3.6/site-packages/aiogremlin/driver/connection.py:159> exception=EofStream()>\n",
      "Traceback (most recent call last):\n",
      "  File \"/home/goern/.local/share/virtualenvs/notebooks-OF6w48C5/lib/python3.6/site-packages/aiogremlin/driver/connection.py\", line 162, in _receive\n",
      "    await self._protocol.data_received(data, self._result_sets)\n",
      "  File \"/home/goern/.local/share/virtualenvs/notebooks-OF6w48C5/lib/python3.6/site-packages/aiogremlin/driver/protocol.py\", line 48, in data_received\n",
      "    raise data.data\n",
      "  File \"/home/goern/.local/share/virtualenvs/notebooks-OF6w48C5/lib/python3.6/site-packages/aiohttp/client_ws.py\", line 183, in receive\n",
      "    msg = yield from self._reader.read()\n",
      "  File \"/home/goern/.local/share/virtualenvs/notebooks-OF6w48C5/lib/python3.6/site-packages/aiohttp/streams.py\", line 627, in read\n",
      "    return (yield from super().read())\n",
      "  File \"/home/goern/.local/share/virtualenvs/notebooks-OF6w48C5/lib/python3.6/site-packages/aiohttp/streams.py\", line 522, in read\n",
      "    raise EofStream\n",
      "aiohttp.streams.EofStream\n"
     ]
    },
    {
     "name": "stdout",
     "output_type": "stream",
     "text": [
      "\n",
      "Done with 8/29 Analyser documents\n",
      "Number of vertexes, edges in graph: 3856, 44851\n",
      "CPU time elapsed to sync document to graph: 1034.6089341640472sec\n",
      "\n",
      "Done with 9/29 Analyser documents\n",
      "Number of vertexes, edges in graph: 3856, 48451\n",
      "CPU time elapsed to sync document to graph: 1037.8934881687164sec\n",
      "\n",
      "Done with 10/29 Analyser documents\n",
      "Number of vertexes, edges in graph: 3908, 52177\n",
      "CPU time elapsed to sync document to graph: 1115.457729101181sec\n",
      "\n",
      "Done with 11/29 Analyser documents\n",
      "Number of vertexes, edges in graph: 3908, 55607\n",
      "CPU time elapsed to sync document to graph: 1040.4953770637512sec\n",
      "\n",
      "Done with 12/29 Analyser documents\n",
      "Number of vertexes, edges in graph: 3980, 62542\n",
      "CPU time elapsed to sync document to graph: 2037.6315722465515sec\n"
     ]
    },
    {
     "name": "stderr",
     "output_type": "stream",
     "text": [
      "2018-10-02 04:17:01,153 [31439] ERROR    thoth.storages.graph.janusgraph: Failed to sync Python package, error is not fatal: {'digests': {'manifest': '724f958273918715b4d72f5bd643ab00b05dd644'}, 'ecosystem': 'Python', 'path': '/opt/app-root/lib/python2.7/site-packages/pbr/tests/testpackage/setup.py', 'result': {'ext_modules': [], 'pbr': True, 'setup_requires': ['pbr']}}\n",
      "Traceback (most recent call last):\n",
      "  File \"/home/goern/.local/share/virtualenvs/notebooks-OF6w48C5/lib/python3.6/site-packages/thoth/storages/graph/janusgraph.py\", line 582, in sync_analysis_result\n",
      "    package_name=python_package_info['result']['name'].lower(),\n",
      "KeyError: 'name'\n"
     ]
    },
    {
     "name": "stdout",
     "output_type": "stream",
     "text": [
      "\n",
      "Done with 13/29 Analyser documents\n",
      "Number of vertexes, edges in graph: 3980, 69781\n",
      "CPU time elapsed to sync document to graph: 2122.2617712020874sec\n"
     ]
    },
    {
     "name": "stderr",
     "output_type": "stream",
     "text": [
      "2018-10-02 04:38:44,994 [31439] INFO     thoth.storages.graph.janusgraph: Skipping error entry - {'digests': {'manifest': 'd160dbe73ba777affa7a4e86a37199a91e31427c'}, 'ecosystem': 'Python', 'path': '/usr/lib64/python2.7/site-packages/twisted/internet/iocpreactor/setup.py', 'result': {'error': 'b\\'Traceback (most recent call last):\\\\n  File \"<stdin>\", line 12, in <module>\\\\nImportError: No module named Cython.Distutils\\\\n\\''}}\n"
     ]
    },
    {
     "name": "stdout",
     "output_type": "stream",
     "text": [
      "\n",
      "Done with 14/29 Analyser documents\n",
      "Number of vertexes, edges in graph: 3980, 74002\n",
      "CPU time elapsed to sync document to graph: 1269.0383327007294sec\n",
      "\n",
      "Done with 15/29 Analyser documents\n",
      "Number of vertexes, edges in graph: 3980, 80907\n",
      "CPU time elapsed to sync document to graph: 2019.1456174850464sec\n",
      "\n",
      "Done with 16/29 Analyser documents\n",
      "Number of vertexes, edges in graph: 4002, 87356\n",
      "CPU time elapsed to sync document to graph: 1888.7892897129059sec\n",
      "\n",
      "Done with 17/29 Analyser documents\n",
      "Number of vertexes, edges in graph: 4003, 93793\n",
      "CPU time elapsed to sync document to graph: 1867.0556786060333sec\n",
      "\n",
      "Done with 18/29 Analyser documents\n",
      "Number of vertexes, edges in graph: 4003, 100230\n",
      "CPU time elapsed to sync document to graph: 1859.4741747379303sec\n",
      "\n",
      "Done with 19/29 Analyser documents\n",
      "Number of vertexes, edges in graph: 4003, 106667\n",
      "CPU time elapsed to sync document to graph: 1835.3830652236938sec\n",
      "\n",
      "Done with 20/29 Analyser documents\n",
      "Number of vertexes, edges in graph: 4003, 113572\n",
      "CPU time elapsed to sync document to graph: 2110.4713323116302sec\n",
      "\n",
      "Done with 21/29 Analyser documents\n",
      "Number of vertexes, edges in graph: 4012, 120018\n",
      "CPU time elapsed to sync document to graph: 1881.937932729721sec\n",
      "\n",
      "Done with 22/29 Analyser documents\n",
      "Number of vertexes, edges in graph: 4012, 126455\n",
      "CPU time elapsed to sync document to graph: 1695.1537792682648sec\n"
     ]
    },
    {
     "name": "stderr",
     "output_type": "stream",
     "text": [
      "2018-10-02 09:24:37,336 [31439] ERROR    thoth.storages.graph.janusgraph: Failed to sync Python package, error is not fatal: {'digests': {'manifest': '724f958273918715b4d72f5bd643ab00b05dd644'}, 'ecosystem': 'Python', 'path': '/opt/app-root/lib/python2.7/site-packages/pbr/tests/testpackage/setup.py', 'result': {'ext_modules': [], 'pbr': True, 'setup_requires': ['pbr']}}\n",
      "Traceback (most recent call last):\n",
      "  File \"/home/goern/.local/share/virtualenvs/notebooks-OF6w48C5/lib/python3.6/site-packages/thoth/storages/graph/janusgraph.py\", line 582, in sync_analysis_result\n",
      "    package_name=python_package_info['result']['name'].lower(),\n",
      "KeyError: 'name'\n"
     ]
    },
    {
     "name": "stdout",
     "output_type": "stream",
     "text": [
      "\n",
      "Done with 23/29 Analyser documents\n",
      "Number of vertexes, edges in graph: 4012, 133694\n",
      "CPU time elapsed to sync document to graph: 2010.2911307811737sec\n",
      "\n",
      "Done with 24/29 Analyser documents\n",
      "Number of vertexes, edges in graph: 4012, 140132\n",
      "CPU time elapsed to sync document to graph: 1729.1528384685516sec\n",
      "\n",
      "Done with 25/29 Analyser documents\n",
      "Number of vertexes, edges in graph: 4012, 148183\n",
      "CPU time elapsed to sync document to graph: 1925.901031255722sec\n"
     ]
    },
    {
     "name": "stderr",
     "output_type": "stream",
     "text": [
      "2018-10-02 10:44:56,592 [31439] INFO     thoth.storages.graph.janusgraph: Skipping error entry - {'digests': {'manifest': 'd160dbe73ba777affa7a4e86a37199a91e31427c'}, 'ecosystem': 'Python', 'path': '/usr/lib64/python2.7/site-packages/twisted/internet/iocpreactor/setup.py', 'result': {'error': 'b\\'Traceback (most recent call last):\\\\n  File \"<stdin>\", line 12, in <module>\\\\nImportError: No module named Cython.Distutils\\\\n\\''}}\n"
     ]
    },
    {
     "name": "stdout",
     "output_type": "stream",
     "text": [
      "\n",
      "Done with 26/29 Analyser documents\n",
      "Number of vertexes, edges in graph: 4012, 153628\n",
      "CPU time elapsed to sync document to graph: 1129.053864479065sec\n",
      "\n",
      "Done with 27/29 Analyser documents\n",
      "Number of vertexes, edges in graph: 4012, 160066\n",
      "CPU time elapsed to sync document to graph: 1350.2611811161041sec\n"
     ]
    },
    {
     "name": "stderr",
     "output_type": "stream",
     "text": [
      "2018-10-02 11:27:12,018 [31439] INFO     thoth.storages.graph.janusgraph: Skipping error entry - {'digests': {'manifest': 'd160dbe73ba777affa7a4e86a37199a91e31427c'}, 'ecosystem': 'Python', 'path': '/usr/lib64/python2.7/site-packages/twisted/internet/iocpreactor/setup.py', 'result': {'error': 'b\\'Traceback (most recent call last):\\\\n  File \"<stdin>\", line 12, in <module>\\\\nImportError: No module named Cython.Distutils\\\\n\\''}}\n"
     ]
    },
    {
     "name": "stdout",
     "output_type": "stream",
     "text": [
      "\n",
      "Done with 28/29 Analyser documents\n",
      "Number of vertexes, edges in graph: 4012, 164287\n",
      "CPU time elapsed to sync document to graph: 1181.451013326645sec\n",
      "\n",
      "Done with 29/29 Analyser documents\n",
      "Number of vertexes, edges in graph: 4012, 167717\n",
      "CPU time elapsed to sync document to graph: 872.3602607250214sec\n",
      "CPU times: user 12min 15s, sys: 32.6 s, total: 12min 48s\n",
      "Wall time: 12h 59min 54s\n"
     ]
    }
   ],
   "source": [
    "%%time\n",
    "\n",
    "import time\n",
    "\n",
    "docs_done = 0\n",
    "for doc in all_analysis_documents:\n",
    "    start = time.time()\n",
    "    graph_db.sync_analysis_result(doc['document'])\n",
    "    end = time.time()\n",
    "    \n",
    "    doc['time_elapsed_to_sync'] = end - start\n",
    "    docs_done = docs_done + 1\n",
    "    \n",
    "    print(f\"\\nDone with {docs_done}/{len(all_analysis_documents)} Analyser documents\")\n",
    "    print(f\"Number of vertexes, edges in graph: {gqr(graph_db.g.V().count().next()).result:d}, {gqr(graph_db.g.E().count().next()).result:d}\")\n",
    "    print(f\"CPU time elapsed to sync document to graph: {doc['time_elapsed_to_sync']}sec\")\n",
    "\n",
    "#    if docs_done == 3:\n",
    "#          break"
   ]
  },
  {
   "cell_type": "markdown",
   "metadata": {},
   "source": [
    "## Syncing solver results - with adapter cache"
   ]
  },
  {
   "cell_type": "code",
   "execution_count": 26,
   "metadata": {},
   "outputs": [
    {
     "name": "stdout",
     "output_type": "stream",
     "text": [
      "env: THOTH_STORAGES_DISABLE_CACHE=0\n",
      "retrieved 24 Solver documents from Ceph\n",
      "CPU times: user 240 ms, sys: 3.06 ms, total: 243 ms\n",
      "Wall time: 9.1 s\n"
     ]
    }
   ],
   "source": [
    "%%time\n",
    "%env THOTH_STORAGES_DISABLE_CACHE=0\n",
    "\n",
    "all_solver_results = solver_results.get_document_listing()\n",
    "all_solver_documents = []\n",
    "\n",
    "for a in all_solver_results:    \n",
    "    all_solver_documents.append({\n",
    "        \"name\": f\"{a}\",\n",
    "        \"document\": solver_results.retrieve_document(a)\n",
    "    })\n",
    "\n",
    "\n",
    "print(f\"retrieved {len(all_solver_documents)} Solver documents from Ceph\")"
   ]
  },
  {
   "cell_type": "code",
   "execution_count": 27,
   "metadata": {},
   "outputs": [
    {
     "name": "stdout",
     "output_type": "stream",
     "text": [
      "\n",
      "Done with solver-f26-5nz7q, it is 1/24 Solver documents\n",
      "Number of vertexes, edges in graph: 4013, 167717\n",
      "CPU time elapsed to sync document to graph: 0.18911242485046387sec\n",
      "\n",
      "Done with solver-f26-675mf, it is 2/24 Solver documents\n",
      "Number of vertexes, edges in graph: 4013, 167717\n",
      "CPU time elapsed to sync document to graph: 0.19583511352539062sec\n",
      "CPU times: user 19.7 ms, sys: 5.72 ms, total: 25.5 ms\n",
      "Wall time: 4.29 s\n"
     ]
    }
   ],
   "source": [
    "%%time\n",
    "\n",
    "import time\n",
    "\n",
    "\n",
    "docs_done = 0\n",
    "for doc in all_solver_documents:\n",
    "    start = time.time()\n",
    "    graph_db.sync_solver_result(doc['document'])\n",
    "    end = time.time()\n",
    "    \n",
    "    doc['time_elapsed_to_sync'] = end - start\n",
    "    docs_done = docs_done + 1\n",
    "    \n",
    "    print(f\"\\nDone with {doc['name']}, it is {docs_done}/{len(all_solver_documents)} Solver documents\")\n",
    "    print(f\"Number of vertexes, edges in graph: {gqr(graph_db.g.V().count().next()).result:d}, {gqr(graph_db.g.E().count().next()).result:d}\")\n",
    "    print(f\"CPU time elapsed to sync document to graph: {doc['time_elapsed_to_sync']}sec\")\n",
    "\n",
    "    if docs_done == 2:\n",
    "          break"
   ]
  },
  {
   "cell_type": "code",
   "execution_count": null,
   "metadata": {},
   "outputs": [],
   "source": []
  }
 ],
 "metadata": {
  "kernelspec": {
   "display_name": "Python 3",
   "language": "python",
   "name": "python3"
  },
  "language_info": {
   "codemirror_mode": {
    "name": "ipython",
    "version": 3
   },
   "file_extension": ".py",
   "mimetype": "text/x-python",
   "name": "python",
   "nbconvert_exporter": "python",
   "pygments_lexer": "ipython3",
   "version": "3.6.6"
  }
 },
 "nbformat": 4,
 "nbformat_minor": 2
}
